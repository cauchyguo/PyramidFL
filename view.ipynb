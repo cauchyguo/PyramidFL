{
 "cells": [
  {
   "cell_type": "code",
   "execution_count": null,
   "metadata": {},
   "outputs": [],
   "source": [
    "import yaml\n",
    "import sys\n",
    "import time\n",
    "import random\n",
    "import os\n",
    "import subprocess\n",
    "import pickle\n",
    "import datetime\n",
    "import socket"
   ]
  },
  {
   "cell_type": "code",
   "execution_count": null,
   "metadata": {},
   "outputs": [],
   "source": [
    "def load_yaml_conf(yaml_file):\n",
    "    with open(yaml_file) as fin:\n",
    "        data = yaml.load(fin, Loader=yaml.FullLoader)\n",
    "    return data"
   ]
  },
  {
   "cell_type": "code",
   "execution_count": null,
   "metadata": {},
   "outputs": [],
   "source": [
    "config_path = '/disk7T/ypguo/PyramidFL/training/evals/configs/openimage/conf_oort.yml'\n",
    "yaml_conf = load_yaml_conf(config_path)\n",
    "yaml_conf"
   ]
  },
  {
   "cell_type": "code",
   "execution_count": null,
   "metadata": {},
   "outputs": [],
   "source": [
    "socket.gethostname()"
   ]
  },
  {
   "cell_type": "code",
   "execution_count": null,
   "metadata": {},
   "outputs": [],
   "source": [
    "ps_ip = socket.gethostname()\n",
    "worker_ips, total_gpus = [], []\n",
    "for ip_gpu in yaml_conf['worker_ips']:\n",
    "    ip, gpu_list = ip_gpu.strip().split(':')\n",
    "    ip = socket.gethostname()\n",
    "    worker_ips.append(ip)\n",
    "    total_gpus.append(eval(gpu_list))"
   ]
  },
  {
   "cell_type": "code",
   "execution_count": null,
   "metadata": {},
   "outputs": [],
   "source": [
    "yaml_conf['worker_ips']"
   ]
  },
  {
   "cell_type": "code",
   "execution_count": null,
   "metadata": {},
   "outputs": [],
   "source": [
    "gpu_list"
   ]
  },
  {
   "cell_type": "code",
   "execution_count": null,
   "metadata": {},
   "outputs": [],
   "source": [
    "# 简化版，只使用一台服务器四个gpu进行仿真实验\n",
    "for ip_gpu in yaml_conf['worker_ips']:\n",
    "    ip, gpu_list = ip_gpu.strip().split(':')\n",
    "    ip = socket.gethostname()\n",
    "    worker_ips.append(ip)\n",
    "    total_gpus.append(eval(gpu_list))\n",
    "running_vms = set()\n",
    "subprocess_list = set()\n",
    "# submit_user: ypguo@\n",
    "submit_user = f\"{yaml_conf['auth']['ssh_user']}@\" if len(\n",
    "    yaml_conf['auth']['ssh_user']) else \"\""
   ]
  },
  {
   "cell_type": "code",
   "execution_count": null,
   "metadata": {},
   "outputs": [],
   "source": [
    "total_gpu_processes = sum([sum(x) for x in total_gpus])"
   ]
  },
  {
   "cell_type": "code",
   "execution_count": null,
   "metadata": {},
   "outputs": [],
   "source": [
    "learner_conf = '-'.join([str(_)\n",
    "                            for _ in list(range(1, total_gpu_processes+1))])\n",
    "learner_conf"
   ]
  },
  {
   "cell_type": "code",
   "execution_count": null,
   "metadata": {},
   "outputs": [],
   "source": [
    "yaml_conf['setup_commands']"
   ]
  },
  {
   "cell_type": "code",
   "execution_count": null,
   "metadata": {},
   "outputs": [],
   "source": [
    "yaml_conf['setup_commands'] is None"
   ]
  },
  {
   "cell_type": "code",
   "execution_count": null,
   "metadata": {},
   "outputs": [],
   "source": [
    "time_stamp = datetime.datetime.fromtimestamp(time.time()).strftime(\n",
    "        '%m%d_%H%M%S')+'_'+str(random.randint(1, 60000))\n",
    "job_conf = {'time_stamp': time_stamp,\n",
    "                'total_worker': total_gpu_processes,\n",
    "                'ps_ip': ps_ip,\n",
    "                'ps_port': random.randint(1000, 60000),\n",
    "                'manager_port': random.randint(1000, 60000),\n",
    "                }"
   ]
  },
  {
   "cell_type": "code",
   "execution_count": null,
   "metadata": {},
   "outputs": [],
   "source": [
    "for conf in yaml_conf['job_conf']:\n",
    "    job_conf.update(conf)\n",
    "job_conf"
   ]
  },
  {
   "cell_type": "code",
   "execution_count": null,
   "metadata": {},
   "outputs": [],
   "source": [
    "conf_script = ''\n",
    "for conf_name in job_conf:\n",
    "        conf_script = conf_script + f' --{conf_name}={job_conf[conf_name]}'\n",
    "\n",
    "ps_cmd = f\" {yaml_conf['python_path']}/python {yaml_conf['exp_path']}/param_server.py {conf_script} --this_rank=0 --learner={learner_conf} --gpu_device=0\""
   ]
  },
  {
   "cell_type": "code",
   "execution_count": null,
   "metadata": {},
   "outputs": [],
   "source": [
    "ps_cmd"
   ]
  },
  {
   "cell_type": "code",
   "execution_count": null,
   "metadata": {},
   "outputs": [],
   "source": [
    "cmd_sequence = f'{ps_cmd}'\n",
    "cmd_sequence = cmd_sequence.split()"
   ]
  },
  {
   "cell_type": "code",
   "execution_count": null,
   "metadata": {},
   "outputs": [],
   "source": [
    "cmd_sequence"
   ]
  },
  {
   "cell_type": "code",
   "execution_count": null,
   "metadata": {},
   "outputs": [],
   "source": [
    "running_vms.add(ps_ip)\n",
    "# worker_ips"
   ]
  },
  {
   "cell_type": "code",
   "execution_count": null,
   "metadata": {},
   "outputs": [],
   "source": [
    "worker_ips"
   ]
  },
  {
   "cell_type": "code",
   "execution_count": null,
   "metadata": {},
   "outputs": [],
   "source": [
    "import pickle \n",
    "client_map = '/disk7T/ypguo/FedScale/benchmark/dataset/speech_commands/clientDataMap'\n",
    "with open(client_map,'rb') as fin:\n",
    "    client_data = pickle.load(fin)"
   ]
  },
  {
   "cell_type": "markdown",
   "metadata": {},
   "source": []
  },
  {
   "cell_type": "code",
   "execution_count": null,
   "metadata": {},
   "outputs": [],
   "source": [
    "len(set(client_data.values())),type(client_data)"
   ]
  },
  {
   "cell_type": "code",
   "execution_count": null,
   "metadata": {},
   "outputs": [],
   "source": [
    "classes = list(client_data.keys())\n",
    "classes[0]"
   ]
  },
  {
   "cell_type": "code",
   "execution_count": null,
   "metadata": {},
   "outputs": [],
   "source": [
    "classes_set = [item.split('_')[0] for item in classes]"
   ]
  },
  {
   "cell_type": "code",
   "execution_count": null,
   "metadata": {},
   "outputs": [],
   "source": [
    "len(client_data),len(classes_set)"
   ]
  },
  {
   "cell_type": "code",
   "execution_count": null,
   "metadata": {},
   "outputs": [],
   "source": [
    "len(set(classes_set))"
   ]
  },
  {
   "cell_type": "code",
   "execution_count": null,
   "metadata": {},
   "outputs": [],
   "source": [
    "def read_pickle_file(file_name):\n",
    "    with open(file_name,'rb') as fin:\n",
    "        data = pickle.load(fin)\n",
    "    return data"
   ]
  },
  {
   "cell_type": "code",
   "execution_count": null,
   "metadata": {},
   "outputs": [],
   "source": [
    "data = read_pickle_file('/disk7T/ypguo/PyramidFL/training/evals/logs/openimage/0803_214633_39368/aggregator/training_perf')"
   ]
  },
  {
   "cell_type": "code",
   "execution_count": null,
   "metadata": {},
   "outputs": [],
   "source": [
    "data"
   ]
  },
  {
   "cell_type": "code",
   "execution_count": null,
   "metadata": {},
   "outputs": [],
   "source": [
    "data2 = read_pickle_file('/disk7T/ypguo/PyramidFL/training/evals/logs/openimage/1008_202757_36006/aggregator/training_perf')"
   ]
  },
  {
   "cell_type": "code",
   "execution_count": null,
   "metadata": {},
   "outputs": [],
   "source": [
    "data2"
   ]
  },
  {
   "cell_type": "code",
   "execution_count": 95,
   "metadata": {},
   "outputs": [],
   "source": [
    "data3 = read_pickle_file('/disk7T/ypguo/PyramidFL/training/evals/logs/google_speech/1011_210013_2646/aggregator/training_perf')"
   ]
  },
  {
   "cell_type": "code",
   "execution_count": 98,
   "metadata": {},
   "outputs": [
    {
     "data": {
      "text/plain": [
       "dict_keys(['data_set', 'model', 'sample_mode', 'gradient_policy', 'epoch', 'client_nums', 'task', 'perf'])"
      ]
     },
     "execution_count": 98,
     "metadata": {},
     "output_type": "execute_result"
    }
   ],
   "source": [
    "data3.keys()"
   ]
  },
  {
   "cell_type": "code",
   "execution_count": 103,
   "metadata": {},
   "outputs": [],
   "source": [
    "data4 = read_pickle_file('/disk7T/ypguo/PyramidFL/training/evals/logs/openimage/0805_051031_20089/aggregator/training_perf')\n"
   ]
  },
  {
   "cell_type": "code",
   "execution_count": 105,
   "metadata": {},
   "outputs": [
    {
     "data": {
      "text/plain": [
       "'yogi'"
      ]
     },
     "execution_count": 105,
     "metadata": {},
     "output_type": "execute_result"
    }
   ],
   "source": [
    "data4['gradient_policy']"
   ]
  },
  {
   "cell_type": "code",
   "execution_count": null,
   "metadata": {},
   "outputs": [],
   "source": []
  }
 ],
 "metadata": {
  "kernelspec": {
   "display_name": "mytorch",
   "language": "python",
   "name": "python3"
  },
  "language_info": {
   "codemirror_mode": {
    "name": "ipython",
    "version": 3
   },
   "file_extension": ".py",
   "mimetype": "text/x-python",
   "name": "python",
   "nbconvert_exporter": "python",
   "pygments_lexer": "ipython3",
   "version": "3.7.16"
  },
  "orig_nbformat": 4
 },
 "nbformat": 4,
 "nbformat_minor": 2
}
